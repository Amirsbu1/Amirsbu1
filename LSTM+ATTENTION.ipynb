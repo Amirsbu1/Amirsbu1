{
  "nbformat": 4,
  "nbformat_minor": 0,
  "metadata": {
    "colab": {
      "name": "LSTM+ATTENTION.ipynb",
      "provenance": []
    },
    "kernelspec": {
      "name": "python3",
      "display_name": "Python 3"
    },
    "language_info": {
      "name": "python"
    }
  },
  "cells": [
    {
      "cell_type": "code",
      "execution_count": 1,
      "metadata": {
        "id": "O_9aHU8MYjEC"
      },
      "outputs": [],
      "source": [
        "#Import dependencies\n",
        "import keras\n",
        "import pandas as pd\n",
        "import numpy as np\n",
        "import tensorflow as tf\n",
        "from sklearn.preprocessing import LabelEncoder\n",
        "from sklearn.model_selection import train_test_split\n",
        "from sklearn.metrics import accuracy_score\n",
        "import scipy.io as sio\n",
        "from sklearn.preprocessing import OneHotEncoder\n",
        "from numpy import mean\n",
        "from numpy import std\n",
        "from numpy import dstack\n",
        "from keras.models import Sequential\n",
        "from keras.layers import Dense\n",
        "from keras.layers import Flatten\n",
        "from keras.layers import Dropout\n",
        "from keras.layers import LSTM\n",
        "#from keras.utils import to_categorical\n",
        "from matplotlib import pyplot\n",
        "from tensorflow import keras\n",
        "import matplotlib.pyplot as plt\n",
        "from sklearn import preprocessing"
      ]
    },
    {
      "cell_type": "code",
      "source": [
        "from google.colab import drive\n",
        "drive.mount('/content/gdrive')\n",
        "labels=sio.loadmat('/content/gdrive/MyDrive/118bus/label_118bus.mat')\n",
        "input=sio.loadmat('/content/gdrive/MyDrive/118bus/data_IEEE118.mat')"
      ],
      "metadata": {
        "colab": {
          "base_uri": "https://localhost:8080/"
        },
        "id": "XPhrcAf7YkEe",
        "outputId": "d402827d-b5dc-4668-b4d0-821a6e767084"
      },
      "execution_count": 2,
      "outputs": [
        {
          "output_type": "stream",
          "name": "stdout",
          "text": [
            "Mounted at /content/gdrive\n"
          ]
        }
      ]
    },
    {
      "cell_type": "code",
      "source": [
        "X=input['data_IEEE118'][:,25:60]\n",
        "#X2=input['data_IEEE118']\n",
        "#X=np.concatenate((X1,X2),axis=1)\n",
        "y=labels['label_118bus']\n",
        "X.shape , y.shape"
      ],
      "metadata": {
        "colab": {
          "base_uri": "https://localhost:8080/"
        },
        "id": "zLDw0Bpa5aw7",
        "outputId": "39a58bdd-5da3-43c1-bb2f-409577f26d06"
      },
      "execution_count": 6,
      "outputs": [
        {
          "output_type": "execute_result",
          "data": {
            "text/plain": [
              "((211176, 35), (211176, 1))"
            ]
          },
          "metadata": {},
          "execution_count": 6
        }
      ]
    },
    {
      "cell_type": "code",
      "source": [
        "min_max_scaler = preprocessing.MinMaxScaler()\n",
        "X_new=min_max_scaler.fit_transform(X.T)\n",
        "X_norm=X_new.T\n",
        "plt.subplot(121)\n",
        "plt.plot(X[1,:])\n",
        "plt.subplot(122)\n",
        "plt.plot(X_norm[1,:])\n",
        "plt.show()\n",
        "y.shape\n",
        "X_norm.shape"
      ],
      "metadata": {
        "colab": {
          "base_uri": "https://localhost:8080/",
          "height": 282
        },
        "id": "RwKYqpkSYkI2",
        "outputId": "a7a2dc81-b4c0-4765-ade2-8ca9abf87803"
      },
      "execution_count": null,
      "outputs": [
        {
          "output_type": "display_data",
          "data": {
            "text/plain": [
              "<Figure size 432x288 with 2 Axes>"
            ],
            "image/png": "[encoded data removed]"
          },
          "metadata": {
            "needs_background": "light"
          }
        },
        {
          "output_type": "execute_result",
          "data": {
            "text/plain": [
              "(5000, 35)"
            ]
          },
          "metadata": {},
          "execution_count": 23
        }
      ]
    },
    {
      "cell_type": "code",
      "source": [
        "import imblearn\n",
        "from collections import Counter\n",
        "from imblearn.under_sampling import ClusterCentroids\n",
        "from sklearn.preprocessing import LabelEncoder\n",
        "import matplotlib.pyplot as plt\n",
        "\n",
        "# label encode the target variable\n",
        "y = LabelEncoder().fit_transform(y)\n",
        "# summarize distribution\n",
        "counter = Counter(y)\n",
        "for k,v in counter.items():\n",
        "\tper = v / len(y) * 100\n",
        "\tprint('Class=%d, n=%d (%.3f%%)' % (k, v, per))\n",
        "# plot the distribution\n",
        "pyplot.bar(counter.keys(), counter.values())\n",
        "pyplot.show()"
      ],
      "metadata": {
        "colab": {
          "base_uri": "https://localhost:8080/",
          "height": 372
        },
        "id": "LmXqs2Kszblc",
        "outputId": "ccc232cb-9509-443b-dc14-2a44e210f40f"
      },
      "execution_count": null,
      "outputs": [
        {
          "output_type": "stream",
          "name": "stdout",
          "text": [
            "Class=2, n=777 (15.540%)\n",
            "Class=1, n=1132 (22.640%)\n",
            "Class=0, n=3091 (61.820%)\n"
          ]
        },
        {
          "output_type": "stream",
          "name": "stderr",
          "text": [
            "/usr/local/lib/python3.7/dist-packages/sklearn/preprocessing/_label.py:115: DataConversionWarning: A column-vector y was passed when a 1d array was expected. Please change the shape of y to (n_samples, ), for example using ravel().\n",
            "  y = column_or_1d(y, warn=True)\n"
          ]
        },
        {
          "output_type": "display_data",
          "data": {
            "text/plain": [
              "<Figure size 432x288 with 1 Axes>"
            ],
            "image/png": "[encoded data removed]"
          },
          "metadata": {
            "needs_background": "light"
          }
        }
      ]
    },
    {
      "cell_type": "code",
      "source": [
        "from imblearn.under_sampling import RandomUnderSampler\n",
        "rus = RandomUnderSampler(random_state=0)\n",
        "X, y = rus.fit_resample(X_norm, y)\n",
        "print(sorted(Counter(y).items()))\n",
        "y.shape"
      ],
      "metadata": {
        "colab": {
          "base_uri": "https://localhost:8080/"
        },
        "id": "bBSDMuP61qKg",
        "outputId": "f0731632-c75e-43c1-e115-166b8d165498"
      },
      "execution_count": null,
      "outputs": [
        {
          "output_type": "stream",
          "name": "stdout",
          "text": [
            "[(0, 17314), (1, 17314), (2, 17314)]\n"
          ]
        },
        {
          "output_type": "execute_result",
          "data": {
            "text/plain": [
              "(51942,)"
            ]
          },
          "metadata": {},
          "execution_count": 9
        }
      ]
    },
    {
      "cell_type": "code",
      "source": [
        "n_features = 1\n",
        "X = X.reshape((X.shape[0], X.shape[1], n_features))\n",
        "X.shape,y.shape"
      ],
      "metadata": {
        "colab": {
          "base_uri": "https://localhost:8080/"
        },
        "id": "SIqI-9V00cya",
        "outputId": "6952a62f-9482-4b2d-b231-1e003766fd58"
      },
      "execution_count": null,
      "outputs": [
        {
          "output_type": "execute_result",
          "data": {
            "text/plain": [
              "((5000, 35, 1), (5000,))"
            ]
          },
          "metadata": {},
          "execution_count": 25
        }
      ]
    },
    {
      "cell_type": "code",
      "source": [
        "from sklearn.model_selection import train_test_split\n",
        "#split data into train and test sets\n",
        "X_train, X_test, y_train, y_test = train_test_split(X,y,test_size=0.3,stratify=y)"
      ],
      "metadata": {
        "id": "439qkb_QYkP8"
      },
      "execution_count": null,
      "outputs": []
    },
    {
      "cell_type": "code",
      "source": [
        "classes = np.unique(np.concatenate((y_train, y_test), axis=0))\n",
        "num_classes = len(np.unique(y_train))\n",
        "print(num_classes)"
      ],
      "metadata": {
        "colab": {
          "base_uri": "https://localhost:8080/"
        },
        "id": "tXoQOTfLiggN",
        "outputId": "24074e01-86ff-43d9-f5d9-219e644586b1"
      },
      "execution_count": null,
      "outputs": [
        {
          "output_type": "stream",
          "name": "stdout",
          "text": [
            "3\n"
          ]
        }
      ]
    },
    {
      "cell_type": "code",
      "source": [
        "# lstm model\n",
        "from numpy import mean\n",
        "from numpy import std\n",
        "from numpy import dstack\n",
        "from keras.models import Sequential\n",
        "from keras.layers import Dense\n",
        "from keras.layers import Flatten\n",
        "from keras.layers import Dropout\n",
        "from keras.layers import LSTM\n",
        "#from keras.utils import to_categorical\n",
        "from tensorflow import keras\n",
        "from keras.layers import Bidirectional\n",
        "from keras.layers import BatchNormalization\n",
        "from keras.regularizers import l2\n",
        "from keras.callbacks import ReduceLROnPlateau"
      ],
      "metadata": {
        "id": "NBcjRnwdYkiF"
      },
      "execution_count": null,
      "outputs": []
    },
    {
      "cell_type": "code",
      "source": [
        "verbose, epochs, batch_size = 1, 200, 64\n",
        "n_timesteps, n_features, n_outputs = X_train.shape[1], 1, y_train.shape[0]\n",
        "model = Sequential()\n",
        "model.add(LSTM(100,return_sequences=True,input_shape=(n_timesteps, n_features),activation='tanh'))\n",
        "model.add(Dropout(0.1))"
      ],
      "metadata": {
        "id": "Y6sdwnBrgk4m"
      },
      "execution_count": null,
      "outputs": []
    },
    {
      "cell_type": "code",
      "source": [
        "tf.keras.layers.BatchNormalization(momentum=0.99,epsilon=0.001,center=True,scale=True)\n",
        "model.add(Dense(50,activation='tanh'))\n",
        "tf.keras.layers.BatchNormalization(momentum=0.99,epsilon=0.001,center=True,scale=True)\n",
        "model.add(Dense(50,activation='tanh'))\n",
        "tf.keras.layers.BatchNormalization(momentum=0.99,epsilon=0.001,center=True,scale=True)\n",
        "model.add(Dense(3, activation='softmax'))\n",
        "#model.compile(keras.optimizers.RMSprop(learning_rate=0.001),loss='sparse_categorical_crossentropy',metrics='accuracy')\n",
        "model.compile(optimizer='adam',loss='sparse_categorical_crossentropy',metrics='accuracy')"
      ],
      "metadata": {
        "id": "0Ks8WegjiTsi"
      },
      "execution_count": null,
      "outputs": []
    },
    {
      "cell_type": "code",
      "source": [
        "history=model.fit(X_train, y_train, epochs=epochs, batch_size=batch_size, verbose=verbose, validation_data=(X_test, y_test))"
      ],
      "metadata": {
        "id": "JH9X-9PAVms1"
      },
      "execution_count": null,
      "outputs": []
    }
  ]
}